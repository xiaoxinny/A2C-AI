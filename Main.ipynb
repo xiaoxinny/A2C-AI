{
 "cells": [
  {
   "metadata": {},
   "cell_type": "markdown",
   "source": [
    "# Audio2Caption AI\n",
    "\n",
    "----\n",
    "\n",
    "## Setup\n",
    "\n",
    "Before we begin, we will need the relevant libraries and files for ensuring that the AI runs within here.\n",
    "\n",
    "**The libraries needed are as follows:**\n",
    "- `numba` - (JIT compiler for generating machine code from Python)\n",
    "- `numpy` - (mathematics functions library, needed for most AI/ML)\n",
    "- `torch` - (all-in-one package for tensor computation/NN)\n",
    "- `tqdm` - (progress meter)\n",
    "- `more-itertools` - (for chunking, tools meant for handling the audio file)\n",
    "- `tiktoken` - (tokenization of input data)\n",
    "\n",
    "Run the following code block to install them all."
   ],
   "id": "e9a9f4a9aef08a52"
  },
  {
   "cell_type": "code",
   "id": "initial_id",
   "metadata": {
    "collapsed": true,
    "ExecuteTime": {
     "end_time": "2025-01-17T01:51:25.641329Z",
     "start_time": "2025-01-17T01:51:13.011498Z"
    }
   },
   "source": [
    "%pip install numba\n",
    "%pip install numpy\n",
    "%pip install torch\n",
    "%pip install tqdm\n",
    "%pip install more-itertools\n",
    "%pip install tiktoken"
   ],
   "outputs": [
    {
     "name": "stdout",
     "output_type": "stream",
     "text": [
      "Requirement already satisfied: numba in c:\\users\\yijia\\appdata\\local\\programs\\python\\python312\\lib\\site-packages (0.60.0)Note: you may need to restart the kernel to use updated packages.\n",
      "\n",
      "Requirement already satisfied: llvmlite<0.44,>=0.43.0dev0 in c:\\users\\yijia\\appdata\\local\\programs\\python\\python312\\lib\\site-packages (from numba) (0.43.0)\n",
      "Requirement already satisfied: numpy<2.1,>=1.22 in c:\\users\\yijia\\appdata\\local\\programs\\python\\python312\\lib\\site-packages (from numba) (2.0.1)\n"
     ]
    },
    {
     "name": "stderr",
     "output_type": "stream",
     "text": [
      "\n",
      "[notice] A new release of pip is available: 24.2 -> 24.3.1\n",
      "[notice] To update, run: python.exe -m pip install --upgrade pip\n"
     ]
    },
    {
     "name": "stdout",
     "output_type": "stream",
     "text": [
      "Requirement already satisfied: numpy in c:\\users\\yijia\\appdata\\local\\programs\\python\\python312\\lib\\site-packages (2.0.1)\n",
      "Note: you may need to restart the kernel to use updated packages.\n"
     ]
    },
    {
     "name": "stderr",
     "output_type": "stream",
     "text": [
      "\n",
      "[notice] A new release of pip is available: 24.2 -> 24.3.1\n",
      "[notice] To update, run: python.exe -m pip install --upgrade pip\n"
     ]
    },
    {
     "name": "stdout",
     "output_type": "stream",
     "text": [
      "Requirement already satisfied: torch in c:\\users\\yijia\\appdata\\local\\programs\\python\\python312\\lib\\site-packages (2.5.1+cu118)\n",
      "Requirement already satisfied: filelock in c:\\users\\yijia\\appdata\\local\\programs\\python\\python312\\lib\\site-packages (from torch) (3.16.1)\n",
      "Requirement already satisfied: typing-extensions>=4.8.0 in c:\\users\\yijia\\appdata\\local\\programs\\python\\python312\\lib\\site-packages (from torch) (4.12.2)\n",
      "Requirement already satisfied: networkx in c:\\users\\yijia\\appdata\\local\\programs\\python\\python312\\lib\\site-packages (from torch) (3.4.2)\n",
      "Requirement already satisfied: jinja2 in c:\\users\\yijia\\appdata\\local\\programs\\python\\python312\\lib\\site-packages (from torch) (3.1.4)\n",
      "Requirement already satisfied: fsspec in c:\\users\\yijia\\appdata\\local\\programs\\python\\python312\\lib\\site-packages (from torch) (2024.10.0)\n",
      "Requirement already satisfied: setuptools in c:\\users\\yijia\\appdata\\local\\programs\\python\\python312\\lib\\site-packages (from torch) (75.2.0)\n",
      "Requirement already satisfied: sympy==1.13.1 in c:\\users\\yijia\\appdata\\local\\programs\\python\\python312\\lib\\site-packages (from torch) (1.13.1)\n",
      "Requirement already satisfied: mpmath<1.4,>=1.1.0 in c:\\users\\yijia\\appdata\\local\\programs\\python\\python312\\lib\\site-packages (from sympy==1.13.1->torch) (1.3.0)\n",
      "Requirement already satisfied: MarkupSafe>=2.0 in c:\\users\\yijia\\appdata\\local\\programs\\python\\python312\\lib\\site-packages (from jinja2->torch) (2.1.5)\n",
      "Note: you may need to restart the kernel to use updated packages.\n"
     ]
    },
    {
     "name": "stderr",
     "output_type": "stream",
     "text": [
      "\n",
      "[notice] A new release of pip is available: 24.2 -> 24.3.1\n",
      "[notice] To update, run: python.exe -m pip install --upgrade pip\n"
     ]
    },
    {
     "name": "stdout",
     "output_type": "stream",
     "text": [
      "Requirement already satisfied: tqdm in c:\\users\\yijia\\appdata\\local\\programs\\python\\python312\\lib\\site-packages (4.66.6)\n",
      "Requirement already satisfied: colorama in c:\\users\\yijia\\appdata\\local\\programs\\python\\python312\\lib\\site-packages (from tqdm) (0.4.6)\n",
      "Note: you may need to restart the kernel to use updated packages.\n"
     ]
    },
    {
     "name": "stderr",
     "output_type": "stream",
     "text": [
      "\n",
      "[notice] A new release of pip is available: 24.2 -> 24.3.1\n",
      "[notice] To update, run: python.exe -m pip install --upgrade pip\n"
     ]
    },
    {
     "name": "stdout",
     "output_type": "stream",
     "text": [
      "Requirement already satisfied: more-itertools in c:\\users\\yijia\\appdata\\local\\programs\\python\\python312\\lib\\site-packages (10.5.0)\n",
      "Note: you may need to restart the kernel to use updated packages.\n"
     ]
    },
    {
     "name": "stderr",
     "output_type": "stream",
     "text": [
      "\n",
      "[notice] A new release of pip is available: 24.2 -> 24.3.1\n",
      "[notice] To update, run: python.exe -m pip install --upgrade pip\n"
     ]
    },
    {
     "name": "stdout",
     "output_type": "stream",
     "text": [
      "Requirement already satisfied: tiktoken in c:\\users\\yijia\\appdata\\local\\programs\\python\\python312\\lib\\site-packages (0.8.0)Note: you may need to restart the kernel to use updated packages.\n",
      "\n",
      "Requirement already satisfied: regex>=2022.1.18 in c:\\users\\yijia\\appdata\\local\\programs\\python\\python312\\lib\\site-packages (from tiktoken) (2024.9.11)\n",
      "Requirement already satisfied: requests>=2.26.0 in c:\\users\\yijia\\appdata\\local\\programs\\python\\python312\\lib\\site-packages (from tiktoken) (2.32.3)\n",
      "Requirement already satisfied: charset-normalizer<4,>=2 in c:\\users\\yijia\\appdata\\local\\programs\\python\\python312\\lib\\site-packages (from requests>=2.26.0->tiktoken) (3.3.2)\n",
      "Requirement already satisfied: idna<4,>=2.5 in c:\\users\\yijia\\appdata\\local\\programs\\python\\python312\\lib\\site-packages (from requests>=2.26.0->tiktoken) (3.8)\n",
      "Requirement already satisfied: urllib3<3,>=1.21.1 in c:\\users\\yijia\\appdata\\local\\programs\\python\\python312\\lib\\site-packages (from requests>=2.26.0->tiktoken) (2.2.2)\n",
      "Requirement already satisfied: certifi>=2017.4.17 in c:\\users\\yijia\\appdata\\local\\programs\\python\\python312\\lib\\site-packages (from requests>=2.26.0->tiktoken) (2024.7.4)\n"
     ]
    },
    {
     "name": "stderr",
     "output_type": "stream",
     "text": [
      "\n",
      "[notice] A new release of pip is available: 24.2 -> 24.3.1\n",
      "[notice] To update, run: python.exe -m pip install --upgrade pip\n"
     ]
    }
   ],
   "execution_count": 1
  },
  {
   "metadata": {},
   "cell_type": "markdown",
   "source": [
    "If you are running this on Linux, please install the `triton` package by running the command below.\n",
    "\n",
    "It is required as it providers a Python-like environment, for it is not entirely compatible with Linux yet."
   ],
   "id": "d87e4819101bcb32"
  },
  {
   "metadata": {
    "ExecuteTime": {
     "end_time": "2025-01-17T02:03:26.392924Z",
     "start_time": "2025-01-17T02:03:24.279620Z"
    }
   },
   "cell_type": "code",
   "source": "%pip install triton>=2.0.0;platform_machine==\"x86_64\" and sys_platform==\"linux\" or sys_platform==\"linux2\"",
   "id": "1a10ad5b98c85c39",
   "outputs": [
    {
     "name": "stdout",
     "output_type": "stream",
     "text": [
      "Note: you may need to restart the kernel to use updated packages.\n"
     ]
    },
    {
     "name": "stderr",
     "output_type": "stream",
     "text": [
      "\n",
      "[notice] A new release of pip is available: 24.2 -> 24.3.1\n",
      "[notice] To update, run: python.exe -m pip install --upgrade pip\n",
      "ERROR: Exception:\n",
      "Traceback (most recent call last):\n",
      "  File \"C:\\Users\\yijia\\AppData\\Local\\Programs\\Python\\Python312\\Lib\\site-packages\\pip\\_vendor\\packaging\\markers.py\", line 266, in __init__\n",
      "    self._markers = _normalize_extra_values(_parse_marker(marker))\n",
      "                                            ^^^^^^^^^^^^^^^^^^^^^\n",
      "  File \"C:\\Users\\yijia\\AppData\\Local\\Programs\\Python\\Python312\\Lib\\site-packages\\pip\\_vendor\\packaging\\_parser.py\", line 253, in parse_marker\n",
      "    return _parse_full_marker(Tokenizer(source, rules=DEFAULT_RULES))\n",
      "           ^^^^^^^^^^^^^^^^^^^^^^^^^^^^^^^^^^^^^^^^^^^^^^^^^^^^^^^^^^\n",
      "  File \"C:\\Users\\yijia\\AppData\\Local\\Programs\\Python\\Python312\\Lib\\site-packages\\pip\\_vendor\\packaging\\_parser.py\", line 257, in _parse_full_marker\n",
      "    retval = _parse_marker(tokenizer)\n",
      "             ^^^^^^^^^^^^^^^^^^^^^^^^\n",
      "  File \"C:\\Users\\yijia\\AppData\\Local\\Programs\\Python\\Python312\\Lib\\site-packages\\pip\\_vendor\\packaging\\_parser.py\", line 266, in _parse_marker\n",
      "    expression = [_parse_marker_atom(tokenizer)]\n",
      "                  ^^^^^^^^^^^^^^^^^^^^^^^^^^^^^\n",
      "  File \"C:\\Users\\yijia\\AppData\\Local\\Programs\\Python\\Python312\\Lib\\site-packages\\pip\\_vendor\\packaging\\_parser.py\", line 291, in _parse_marker_atom\n",
      "    marker = _parse_marker_item(tokenizer)\n",
      "             ^^^^^^^^^^^^^^^^^^^^^^^^^^^^^\n",
      "  File \"C:\\Users\\yijia\\AppData\\Local\\Programs\\Python\\Python312\\Lib\\site-packages\\pip\\_vendor\\packaging\\_parser.py\", line 305, in _parse_marker_item\n",
      "    marker_var_right = _parse_marker_var(tokenizer)\n",
      "                       ^^^^^^^^^^^^^^^^^^^^^^^^^^^^\n",
      "  File \"C:\\Users\\yijia\\AppData\\Local\\Programs\\Python\\Python312\\Lib\\site-packages\\pip\\_vendor\\packaging\\_parser.py\", line 319, in _parse_marker_var\n",
      "    tokenizer.raise_syntax_error(\n",
      "  File \"C:\\Users\\yijia\\AppData\\Local\\Programs\\Python\\Python312\\Lib\\site-packages\\pip\\_vendor\\packaging\\_tokenizer.py\", line 167, in raise_syntax_error\n",
      "    raise ParserSyntaxError(\n",
      "pip._vendor.packaging._tokenizer.ParserSyntaxError: Expected a marker variable or quoted string\n",
      "    platform_machine==x86_64\n",
      "                      ^\n",
      "\n",
      "The above exception was the direct cause of the following exception:\n",
      "\n",
      "Traceback (most recent call last):\n",
      "  File \"C:\\Users\\yijia\\AppData\\Local\\Programs\\Python\\Python312\\Lib\\site-packages\\pip\\_internal\\cli\\base_command.py\", line 105, in _run_wrapper\n",
      "    status = _inner_run()\n",
      "             ^^^^^^^^^^^^\n",
      "  File \"C:\\Users\\yijia\\AppData\\Local\\Programs\\Python\\Python312\\Lib\\site-packages\\pip\\_internal\\cli\\base_command.py\", line 96, in _inner_run\n",
      "    return self.run(options, args)\n",
      "           ^^^^^^^^^^^^^^^^^^^^^^^\n",
      "  File \"C:\\Users\\yijia\\AppData\\Local\\Programs\\Python\\Python312\\Lib\\site-packages\\pip\\_internal\\cli\\req_command.py\", line 67, in wrapper\n",
      "    return func(self, options, args)\n",
      "           ^^^^^^^^^^^^^^^^^^^^^^^^^\n",
      "  File \"C:\\Users\\yijia\\AppData\\Local\\Programs\\Python\\Python312\\Lib\\site-packages\\pip\\_internal\\commands\\install.py\", line 343, in run\n",
      "    reqs = self.get_requirements(args, options, finder, session)\n",
      "           ^^^^^^^^^^^^^^^^^^^^^^^^^^^^^^^^^^^^^^^^^^^^^^^^^^^^^\n",
      "  File \"C:\\Users\\yijia\\AppData\\Local\\Programs\\Python\\Python312\\Lib\\site-packages\\pip\\_internal\\cli\\req_command.py\", line 233, in get_requirements\n",
      "    req_to_add = install_req_from_line(\n",
      "                 ^^^^^^^^^^^^^^^^^^^^^^\n",
      "  File \"C:\\Users\\yijia\\AppData\\Local\\Programs\\Python\\Python312\\Lib\\site-packages\\pip\\_internal\\req\\constructors.py\", line 405, in install_req_from_line\n",
      "    parts = parse_req_from_line(name, line_source)\n",
      "            ^^^^^^^^^^^^^^^^^^^^^^^^^^^^^^^^^^^^^^\n",
      "  File \"C:\\Users\\yijia\\AppData\\Local\\Programs\\Python\\Python312\\Lib\\site-packages\\pip\\_internal\\req\\constructors.py\", line 318, in parse_req_from_line\n",
      "    markers = Marker(markers_as_string)\n",
      "              ^^^^^^^^^^^^^^^^^^^^^^^^^\n",
      "  File \"C:\\Users\\yijia\\AppData\\Local\\Programs\\Python\\Python312\\Lib\\site-packages\\pip\\_vendor\\packaging\\markers.py\", line 284, in __init__\n",
      "    raise InvalidMarker(str(e)) from e\n",
      "pip._vendor.packaging.markers.InvalidMarker: Expected a marker variable or quoted string\n",
      "    platform_machine==x86_64\n",
      "                      ^\n"
     ]
    }
   ],
   "execution_count": 7
  },
  {
   "metadata": {},
   "cell_type": "markdown",
   "source": [
    "After installing the needed libraries as above, there are two additional things you need.\n",
    "\n",
    "One of them is `ffmpeg`, which is a CLI tool that is necessary for **converting audio and video**.\n",
    "\n",
    "You can install it via any of the package managers on your computer, such as `chocolatey`, `brew` for MacOS, or `apt` on Ubuntu/Debian. Full list is below.\n",
    "\n",
    "```bash\n",
    "# on Ubuntu or Debian\n",
    "sudo apt update && sudo apt install ffmpeg\n",
    "\n",
    "# on Arch Linux\n",
    "sudo pacman -S ffmpeg\n",
    "\n",
    "# on MacOS using Homebrew (https://brew.sh/)\n",
    "brew install ffmpeg\n",
    "\n",
    "# on Windows using Chocolatey (https://chocolatey.org/)\n",
    "choco install ffmpeg\n",
    "\n",
    "# on Windows using Scoop (https://scoop.sh/)\n",
    "scoop install ffmpeg\n",
    "```\n",
    "\n",
    "The other is `rust`, a common, fast programming language that might be needed in case `tiktoken` does not provide a pre-built wheel, which is required for ease of installation, else Python attempts to **compile the library from its source code**, which is written in Rust.\n",
    "\n",
    "To install `rust` on your system, [click here](https://www.rust-lang.org/tools/install).\n",
    "\n",
    "**(Optional)** Additionally, you may need to configure the PATH environment variable, e.g. `export PATH=\"$HOME/.cargo/bin:$PATH\"`.\n",
    "\n",
    "**(Optional)** If the installation fails with `No module named 'setuptools_rust'`, you need to install setuptools_rust, e.g. by running:"
   ],
   "id": "f28ffd21e847dec2"
  },
  {
   "metadata": {
    "ExecuteTime": {
     "end_time": "2025-01-17T01:51:41.230794Z",
     "start_time": "2025-01-17T01:51:38.819096Z"
    }
   },
   "cell_type": "code",
   "source": "%pip install setuptools_rust",
   "id": "d1c32e2014ee0c05",
   "outputs": [
    {
     "name": "stdout",
     "output_type": "stream",
     "text": [
      "Collecting setuptools_rustNote: you may need to restart the kernel to use updated packages.\n"
     ]
    },
    {
     "name": "stderr",
     "output_type": "stream",
     "text": [
      "\n",
      "[notice] A new release of pip is available: 24.2 -> 24.3.1\n",
      "[notice] To update, run: python.exe -m pip install --upgrade pip\n"
     ]
    },
    {
     "name": "stdout",
     "output_type": "stream",
     "text": [
      "\n",
      "  Downloading setuptools_rust-1.10.2-py3-none-any.whl.metadata (9.2 kB)\n",
      "Requirement already satisfied: setuptools>=62.4 in c:\\users\\yijia\\appdata\\local\\programs\\python\\python312\\lib\\site-packages (from setuptools_rust) (75.2.0)\n",
      "Collecting semantic-version<3,>=2.8.2 (from setuptools_rust)\n",
      "  Downloading semantic_version-2.10.0-py2.py3-none-any.whl.metadata (9.7 kB)\n",
      "Downloading setuptools_rust-1.10.2-py3-none-any.whl (26 kB)\n",
      "Downloading semantic_version-2.10.0-py2.py3-none-any.whl (15 kB)\n",
      "Installing collected packages: semantic-version, setuptools_rust\n",
      "Successfully installed semantic-version-2.10.0 setuptools_rust-1.10.2\n"
     ]
    }
   ],
   "execution_count": 2
  },
  {
   "metadata": {},
   "cell_type": "markdown",
   "source": [
    "Refer to the following table to understand your ideal model for running the model. Keep it in mind as we will refer to it later.\n",
    "\n",
    "|  Size  | Parameters | English-only model | Multilingual model | Required VRAM | Relative speed |\n",
    "|:------:|:----------:|:------------------:|:------------------:|:-------------:|:--------------:|\n",
    "|  tiny  |    39 M    |     `tiny.en`      |       `tiny`       |     ~1 GB     |      ~10x      |\n",
    "|  base  |    74 M    |     `base.en`      |       `base`       |     ~1 GB     |      ~7x       |\n",
    "| small  |   244 M    |     `small.en`     |      `small`       |     ~2 GB     |      ~4x       |\n",
    "| medium |   769 M    |    `medium.en`     |      `medium`      |     ~5 GB     |      ~2x       |\n",
    "| large  |   1550 M   |        N/A         |      `large`       |    ~10 GB     |       1x       |\n",
    "| turbo  |   809 M    |        N/A         |      `turbo`       |     ~6 GB     |      ~8x       |\n",
    "\n",
    "We can now officially begin the coding process."
   ],
   "id": "1f5e09bb6ba9151"
  },
  {
   "metadata": {},
   "cell_type": "markdown",
   "source": [
    "## Deploying your Whisper model\n",
    "\n",
    "As per [GitHub](https://github.com/openai/whisper), the code below deploys the model within your IDE."
   ],
   "id": "e2032cbe427e3512"
  },
  {
   "metadata": {
    "ExecuteTime": {
     "end_time": "2025-01-17T02:02:38.140421Z",
     "start_time": "2025-01-17T02:02:18.353326Z"
    }
   },
   "cell_type": "code",
   "source": [
    "import whisper\n",
    "import math\n",
    "\n",
    "# Load the model\n",
    "model = whisper.load_model(\"turbo\")\n",
    "\n",
    "# Load audio file\n",
    "audio = whisper.load_audio(\"harvard.wav\")\n",
    "\n",
    "# Define the duration in samples for a 30-second window\n",
    "chunk_duration = 30 * 16000  # 30 seconds at 16,000 samples per second\n",
    "total_chunks = math.ceil(len(audio) / chunk_duration)\n",
    "\n",
    "# Iterate over chunks and transcribe with timestamps\n",
    "transcribed_text = []\n",
    "for i in range(total_chunks):\n",
    "    start_sample = i * chunk_duration\n",
    "    end_sample = min((i + 1) * chunk_duration, len(audio))\n",
    "\n",
    "    chunk = whisper.pad_or_trim(audio[start_sample:end_sample])\n",
    "    mel = whisper.log_mel_spectrogram(chunk).to(model.device)\n",
    "\n",
    "    # Transcribe using model, extracting timestamped segments\n",
    "    result = model.transcribe(chunk, language=\"en\", word_timestamps=True)\n",
    "\n",
    "    # Adjust segment timestamps based on current chunk start\n",
    "    for segment in result[\"segments\"]:\n",
    "        start_time = segment[\"start\"] + (i * 30)\n",
    "        end_time = segment[\"end\"] + (i * 30)\n",
    "        text = segment[\"text\"]\n",
    "        transcribed_text.append(f\"[{start_time:.3f} --> {end_time:.3f}]  {text}\")\n",
    "\n",
    "# Print the full transcription with timestamps\n",
    "print(\"\\n\".join(transcribed_text))\n"
   ],
   "id": "456adf09f103c66",
   "outputs": [
    {
     "name": "stderr",
     "output_type": "stream",
     "text": [
      "C:\\Users\\yijia\\Documents\\GitHub\\A2C-AI\\whisper\\timing.py:42: UserWarning: Failed to launch Triton kernels, likely due to missing CUDA toolkit; falling back to a slower median kernel implementation...\n",
      "  warnings.warn(\n",
      "C:\\Users\\yijia\\Documents\\GitHub\\A2C-AI\\whisper\\timing.py:146: UserWarning: Failed to launch Triton kernels, likely due to missing CUDA toolkit; falling back to a slower DTW implementation...\n",
      "  warnings.warn(\n"
     ]
    },
    {
     "name": "stdout",
     "output_type": "stream",
     "text": [
      "[0.820 --> 3.620]   The stale smell of old beer lingers.\n",
      "[3.920 --> 6.180]   It takes heat to bring out the odor.\n",
      "[6.660 --> 9.340]   A cold dip restores health and zest.\n",
      "[9.840 --> 12.020]   A salt pickle tastes fine with ham.\n",
      "[12.640 --> 14.320]   Tacos al pastor are my favorite.\n",
      "[14.920 --> 17.460]   A zestful food is the hot cross bun.\n"
     ]
    }
   ],
   "execution_count": 6
  }
 ],
 "metadata": {
  "kernelspec": {
   "display_name": "Python 3",
   "language": "python",
   "name": "python3"
  },
  "language_info": {
   "codemirror_mode": {
    "name": "ipython",
    "version": 2
   },
   "file_extension": ".py",
   "mimetype": "text/x-python",
   "name": "python",
   "nbconvert_exporter": "python",
   "pygments_lexer": "ipython2",
   "version": "2.7.6"
  }
 },
 "nbformat": 4,
 "nbformat_minor": 5
}
